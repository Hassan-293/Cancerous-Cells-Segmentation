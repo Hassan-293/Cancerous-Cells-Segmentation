{
  "nbformat": 4,
  "nbformat_minor": 0,
  "metadata": {
    "colab": {
      "provenance": [],
      "authorship_tag": "ABX9TyMtf7phne3AIVlbQKGO7Wn7",
      "include_colab_link": true
    },
    "kernelspec": {
      "name": "python3",
      "display_name": "Python 3"
    },
    "language_info": {
      "name": "python"
    }
  },
  "cells": [
    {
      "cell_type": "markdown",
      "metadata": {
        "id": "view-in-github",
        "colab_type": "text"
      },
      "source": [
        "<a href=\"https://colab.research.google.com/github/Hassan-293/My-Project/blob/main/Unet_Model.ipynb\" target=\"_parent\"><img src=\"https://colab.research.google.com/assets/colab-badge.svg\" alt=\"Open In Colab\"/></a>"
      ]
    },
    {
      "cell_type": "code",
      "execution_count": null,
      "metadata": {
        "colab": {
          "base_uri": "https://localhost:8080/"
        },
        "id": "TETpu2KFuOlF",
        "outputId": "8ea33ea3-0868-439b-cd05-097430d97062"
      },
      "outputs": [
        {
          "output_type": "stream",
          "name": "stdout",
          "text": [
            "Mounted at /content/drive\n"
          ]
        }
      ],
      "source": [
        "from google.colab import drive\n",
        "drive.mount('/content/drive')"
      ]
    },
    {
      "cell_type": "code",
      "source": [
        "import os\n",
        "import random\n",
        "import numpy as np\n",
        "from tqdm import tqdm\n",
        "from skimage.io import imread,imshow\n",
        "from skimage.transform import resize\n",
        "import matplotlib.pyplot as plt"
      ],
      "metadata": {
        "id": "h5tC_-kRuwWM"
      },
      "execution_count": null,
      "outputs": []
    },
    {
      "cell_type": "code",
      "source": [
        "train_image_dir = r'/content/drive/MyDrive/Histo Data/Train_Processed'\n",
        "train_mask_dir = r'/content/drive/MyDrive/Histo Data/Labels_Processesd'"
      ],
      "metadata": {
        "id": "XgfNini_wDj8"
      },
      "execution_count": null,
      "outputs": []
    },
    {
      "cell_type": "code",
      "source": [
        "train_image_paths = sorted([os.path.join(train_image_dir, fname) for fname in os.listdir(train_image_dir) if fname.endswith(\".png\") and not fname.startswith(\".\")])\n",
        "train_mask_paths = sorted([os.path.join(train_mask_dir, fname) for fname in os.listdir(train_mask_dir) if fname.endswith(\".png\") and not fname.startswith(\".\")])\n",
        "print(\"Number of training images : \", len(train_image_paths))\n",
        "print(\"Number of training masks : \", len(train_mask_paths))"
      ],
      "metadata": {
        "colab": {
          "base_uri": "https://localhost:8080/"
        },
        "id": "agAD2Ji2wHWj",
        "outputId": "f00e093d-e870-42b4-f7e3-2f104ecccbd9"
      },
      "execution_count": null,
      "outputs": [
        {
          "output_type": "stream",
          "name": "stdout",
          "text": [
            "Number of training images :  238\n",
            "Number of training masks :  238\n"
          ]
        }
      ]
    },
    {
      "cell_type": "code",
      "source": [
        "# Shuffle\n",
        "import random\n",
        "combined = list(zip(train_image_paths, train_mask_paths))\n",
        "random.shuffle(combined)\n",
        "train_image_paths[:], train_mask_paths[:] = zip(*combined)"
      ],
      "metadata": {
        "id": "xuIBoQZxwMId"
      },
      "execution_count": null,
      "outputs": []
    },
    {
      "cell_type": "code",
      "source": [
        "print(\"After shuffling\")\n",
        "print(train_image_paths[0:5])\n",
        "print(train_mask_paths[0:5])\n",
        "# Sequence intact !"
      ],
      "metadata": {
        "colab": {
          "base_uri": "https://localhost:8080/"
        },
        "id": "Cis--G1vwdI_",
        "outputId": "202872a9-aae0-4aba-e183-82b27910dba7"
      },
      "execution_count": null,
      "outputs": [
        {
          "output_type": "stream",
          "name": "stdout",
          "text": [
            "After shuffling\n",
            "['/content/drive/MyDrive/Histo Data/Train_Processed/crag_51.png', '/content/drive/MyDrive/Histo Data/Train_Processed/glas_5.png', '/content/drive/MyDrive/Histo Data/Train_Processed/dpath_23.png', '/content/drive/MyDrive/Histo Data/Train_Processed/crag_42.png', '/content/drive/MyDrive/Histo Data/Train_Processed/pannuke_25.png']\n",
            "['/content/drive/MyDrive/Histo Data/Labels_Processesd/crag_51.png', '/content/drive/MyDrive/Histo Data/Labels_Processesd/glas_5.png', '/content/drive/MyDrive/Histo Data/Labels_Processesd/dpath_23.png', '/content/drive/MyDrive/Histo Data/Labels_Processesd/crag_42.png', '/content/drive/MyDrive/Histo Data/Labels_Processesd/pannuke_25.png']\n"
          ]
        }
      ]
    },
    {
      "cell_type": "code",
      "source": [
        " #Splitting\n",
        "train_image_files = train_image_paths[:190]\n",
        "train_mask_files = train_mask_paths[:190]\n",
        "\n",
        "valid_image_files = train_image_paths[:190]\n",
        "valid_mask_files = train_mask_paths[:190]\n",
        "\n",
        "print(len(train_image_files), len(train_mask_files))\n",
        "print(len(valid_image_files), len(valid_mask_files))\n"
      ],
      "metadata": {
        "colab": {
          "base_uri": "https://localhost:8080/"
        },
        "id": "XCriAPlywgxP",
        "outputId": "02e6fd33-d8c0-4e48-f2a0-2b51b6175c72"
      },
      "execution_count": null,
      "outputs": [
        {
          "output_type": "stream",
          "name": "stdout",
          "text": [
            "190 190\n",
            "190 190\n"
          ]
        }
      ]
    },
    {
      "cell_type": "code",
      "source": [
        "\n",
        "import tensorflow as tf\n",
        "\n",
        "def unet_model(_imgHeight,  _imgWidth, _imgChannel):\n",
        "    # Build the model:\n",
        "    # inputs:\n",
        "    inputs = tf.keras.layers.Input((_imgHeight,  _imgWidth, _imgChannel))\n",
        "    s = tf.keras.layers.Lambda(lambda x : x / 255.0)(inputs)\n",
        "\n",
        "    # Contraction path\n",
        "    # First Layer:  \n",
        "    C1 = tf.keras.layers.Conv2D(16, (3,3), activation='relu', kernel_initializer='he_normal', padding='same')(s)\n",
        "    C1 = tf.keras.layers.Dropout(0.1)(C1)\n",
        "    C1 = tf.keras.layers.Conv2D(16, (3,3), activation='relu', kernel_initializer='he_normal', padding='same')(C1)\n",
        "    P1 = tf.keras.layers.MaxPooling2D((2,2))(C1)\n",
        "    # Second Layer:\n",
        "    C2 = tf.keras.layers.Conv2D(32, (3,3), activation='relu', kernel_initializer='he_normal', padding='same')(P1)\n",
        "    C2 = tf.keras.layers.Dropout(0.1)(C2)\n",
        "    C2 = tf.keras.layers.Conv2D(32, (3,3), activation='relu', kernel_initializer='he_normal', padding='same')(C2)\n",
        "    P2 = tf.keras.layers.MaxPooling2D((2,2))(C2)\n",
        "    # Third Layer:\n",
        "    C3 = tf.keras.layers.Conv2D(64, (3,3), activation='relu', kernel_initializer='he_normal', padding='same')(P2)\n",
        "    C3 = tf.keras.layers.Dropout(0.2)(C3)\n",
        "    C3 = tf.keras.layers.Conv2D(64, (3,3), activation='relu', kernel_initializer='he_normal', padding='same')(C3)\n",
        "    P3 = tf.keras.layers.MaxPooling2D((2,2))(C3)\n",
        "    # Forth Layer:\n",
        "    C4 = tf.keras.layers.Conv2D(128, (3,3), activation='relu', kernel_initializer='he_normal', padding='same')(P3)\n",
        "    C4 = tf.keras.layers.Dropout(0.2)(C4)\n",
        "    C4 = tf.keras.layers.Conv2D(128, (3,3), activation='relu', kernel_initializer='he_normal', padding='same')(C4)\n",
        "    P4 = tf.keras.layers.MaxPooling2D((2,2))(C4)\n",
        "    # Fifth Layer:\n",
        "    C5 = tf.keras.layers.Conv2D(256, (3,3), activation='relu', kernel_initializer='he_normal', padding='same')(P4)\n",
        "    C5 = tf.keras.layers.Dropout(0.3)(C5)\n",
        "    C5 = tf.keras.layers.Conv2D(256, (3,3), activation='relu', kernel_initializer='he_normal', padding='same')(C5)\n",
        "\n",
        "    # Expansive Path:\n",
        "    # Sixth Layer\n",
        "    U6 = tf.keras.layers.Conv2DTranspose(128, (2,2), strides=(2,2), padding='same')(C5)\n",
        "    U6 = tf.keras.layers.concatenate([U6, C4])\n",
        "    C6 = tf.keras.layers.Conv2D(128, (3,3), activation='relu', kernel_initializer='he_normal', padding='same')(U6)\n",
        "    C6 = tf.keras.layers.Dropout(0.2)(C6)\n",
        "    C6 = tf.keras.layers.Conv2D(128, (3,3), activation='relu', kernel_initializer='he_normal', padding='same')(C6)\n",
        "    # Seventh Layer:\n",
        "    U7 = tf.keras.layers.Conv2DTranspose(64, (2,2), strides=(2,2), padding='same')(C6)\n",
        "    U7 = tf.keras.layers.concatenate([U7, C3])\n",
        "    C7 = tf.keras.layers.Conv2D(64, (3,3), activation='relu', kernel_initializer='he_normal', padding='same')(U7)\n",
        "    C7 = tf.keras.layers.Dropout(0.2)(C7)\n",
        "    C7 = tf.keras.layers.Conv2D(64, (3,3), activation='relu', kernel_initializer='he_normal', padding='same')(C7)\n",
        "    # Eighth Layer:\n",
        "    U8 = tf.keras.layers.Conv2DTranspose(32, (2,2), strides=(2,2), padding='same')(C7)\n",
        "    U8 = tf.keras.layers.concatenate([U8, C2])\n",
        "    C8 = tf.keras.layers.Conv2D(32, (3,3), activation='relu', kernel_initializer='he_normal', padding='same')(U8)\n",
        "    C8 = tf.keras.layers.Dropout(0.1)(C8)\n",
        "    C8 = tf.keras.layers.Conv2D(32, (3,3), activation='relu', kernel_initializer='he_normal', padding='same')(C8)\n",
        "    # Ninth Layer:\n",
        "    U9 = tf.keras.layers.Conv2DTranspose(16, (2,2), strides=(2,2), padding='same')(C8)\n",
        "    U9 = tf.keras.layers.concatenate([U9, C1], axis=3)\n",
        "    C9 = tf.keras.layers.Conv2D(16, (3,3), activation='relu', kernel_initializer='he_normal', padding='same')(U9)\n",
        "    C9 = tf.keras.layers.Dropout(0.1)(C9)\n",
        "    C9 = tf.keras.layers.Conv2D(16, (3,3), activation='relu', kernel_initializer='he_normal', padding='same')(C9)\n",
        "\n",
        "    # Output Layer:\n",
        "    outputs = tf.keras.layers.Conv2D(1, (1,1), activation='sigmoid')(C9)\n",
        "\n",
        "    model = tf.keras.Model(inputs=[inputs], outputs=[outputs])\n",
        "    model.compile(optimizer='adam', loss='binary_crossentropy',metrics=['accuracy'])\n",
        "    model.summary()\n",
        "    return model"
      ],
      "metadata": {
        "id": "vsKff0Znwusj"
      },
      "execution_count": null,
      "outputs": []
    },
    {
      "cell_type": "code",
      "source": [],
      "metadata": {
        "id": "7QB5xoXDw6u1"
      },
      "execution_count": null,
      "outputs": []
    }
  ]
}